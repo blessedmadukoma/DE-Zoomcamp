{
 "cells": [
  {
   "cell_type": "code",
   "execution_count": 1,
   "metadata": {},
   "outputs": [
    {
     "name": "stdout",
     "output_type": "stream",
     "text": [
      "Question 1 - Sum of outputs for limit = 5: 8.382332347441762\n",
      "Question 2 - 13th number yielded: 3.605551275463989\n"
     ]
    }
   ],
   "source": [
    "# 1. Use a generator\n",
    "\n",
    "# Remember the concept of generator? Let's practice using them to futher our understanding of how they work.\n",
    "\n",
    "# Let's define a generator and then run it as practice.\n",
    "\n",
    "# **Answer the following questions:**\n",
    "\n",
    "# - **Question 1: What is the sum of the outputs of the generator for limit = 5?**\n",
    "# - **Question 2: What is the 13th number yielded**\n",
    "\n",
    "# I suggest practicing these questions without GPT as the purpose is to further your learning.\n",
    "\n",
    "def square_root_generator(limit):\n",
    "    n = 1\n",
    "    while n <= limit:\n",
    "        yield n ** 0.5\n",
    "        n += 1\n",
    "\n",
    "# Example usage:\n",
    "limit = 5\n",
    "generator = square_root_generator(limit)\n",
    "\n",
    "# Question 1: What is the sum of the outputs of the generator for limit = 5?\n",
    "sum_of_outputs = sum(generator)\n",
    "print(\"Question 1 - Sum of outputs for limit = 5:\", sum_of_outputs)\n",
    "\n",
    "for sqrt_value in generator:\n",
    "    print(sqrt_value)\n",
    "\n",
    "# Question 2: What is the 13th number yielded\n",
    "generator = square_root_generator(13)\n",
    "thirteenth_number = None\n",
    "for _ in range(13):\n",
    "    thirteenth_number = next(generator)\n",
    "print(\"Question 2 - 13th number yielded:\", thirteenth_number)"
   ]
  },
  {
   "cell_type": "code",
   "execution_count": 30,
   "metadata": {},
   "outputs": [
    {
     "name": "stdout",
     "output_type": "stream",
     "text": [
      "Sum of ages of all people from generator 1: 140\n",
      "Sum of all ages of people after appending: 353\n"
     ]
    }
   ],
   "source": [
    "# 2. Append a generator to a table with existing data\n",
    "\n",
    "# Below you have 2 generators. You will be tasked to load them to duckdb and answer some questions from the data\n",
    "\n",
    "# 1. Load the first generator and calculate the sum of ages of all people. Make sure to only load it once.\n",
    "# 2. Append the second generator to the same table as the first.\n",
    "# 3. **After correctly appending the data, calculate the sum of all ages of people.**\n",
    "\n",
    "# def people_1():\n",
    "#     for i in range(1, 6):\n",
    "#         yield {\"ID\": i, \"Name\": f\"Person_{i}\", \"Age\": 25 + i, \"City\": \"City_A\"}\n",
    "\n",
    "# for person in people_1():\n",
    "#     print(person)\n",
    "\n",
    "\n",
    "# def people_2():\n",
    "#     for i in range(3, 9):\n",
    "#         yield {\"ID\": i, \"Name\": f\"Person_{i}\", \"Age\": 30 + i, \"City\": \"City_B\", \"Occupation\": f\"Job_{i}\"}\n",
    "\n",
    "\n",
    "# for person in people_2():\n",
    "#     print(person)\n",
    "\n",
    "# Solution\n",
    "\n",
    "import duckdb\n",
    "\n",
    "# Define the generators\n",
    "def people_1():\n",
    "    for i in range(1, 6):\n",
    "        yield (i, f\"Person_{i}\", 25 + i, \"City_A\", None)\n",
    "        # yield {\"ID\": i, \"Name\": f\"Person_{i}\", \"Age\": 25 + i, \"City\": \"City_A\"}\n",
    "\n",
    "def people_2():\n",
    "    for i in range(3, 9):\n",
    "        yield (i, f\"Person_{i}\", 30 + i, \"City_B\", f\"Job_{i}\")\n",
    "        # yield {\"ID\": i, \"Name\": f\"Person_{i}\", \"Age\": 30 + i, \"City\": \"City_B\", \"Occupation\": f\"Job_{i}\"}\n",
    "\n",
    "# Step 1: Load the first generator and calculate the sum of ages of all people. Make sure to only load it once.\n",
    "people_1_data = list(people_1())  # Store the generated values in a list\n",
    "sum_of_ages_1 = sum(person[2] for person in people_1_data)\n",
    "print(\"Sum of ages of all people from generator 1:\", sum_of_ages_1)\n",
    "\n",
    "# Step 2: Append the second generator to the same table as the first.\n",
    "con = duckdb.connect(database=':memory:', read_only=False)\n",
    "\n",
    "# Create a table\n",
    "con.execute(\"CREATE TABLE people (ID INT, Name VARCHAR, Age INT, City VARCHAR, Occupation VARCHAR)\")\n",
    "\n",
    "# Insert data from the first generator\n",
    "con.executemany(\"INSERT INTO people VALUES (?, ?, ?, ?, ?)\", people_1_data)\n",
    "\n",
    "# Append data from the second generator\n",
    "con.executemany(\"INSERT INTO people VALUES (?, ?, ?, ?, ?)\", people_2())\n",
    "\n",
    "# Step 3: calculate the sum of all ages of people\n",
    "result = con.execute(\"SELECT SUM(Age) FROM people\")\n",
    "sum_of_all_ages = result.fetchone()[0]\n",
    "print(\"Sum of all ages of people after appending:\", sum_of_all_ages)"
   ]
  },
  {
   "cell_type": "code",
   "execution_count": 28,
   "metadata": {},
   "outputs": [
    {
     "name": "stdout",
     "output_type": "stream",
     "text": [
      "Records after merging:\n",
      "(1, 'Person_1', 26, 'City_A', None)\n",
      "(2, 'Person_2', 27, 'City_A', None)\n",
      "(3, 'Person_3', 33, 'City_B', 'Job_3')\n",
      "(4, 'Person_4', 34, 'City_B', 'Job_4')\n",
      "(5, 'Person_5', 35, 'City_B', 'Job_5')\n",
      "(6, 'Person_6', 36, 'City_B', 'Job_6')\n",
      "(7, 'Person_7', 37, 'City_B', 'Job_7')\n",
      "(8, 'Person_8', 38, 'City_B', 'Job_8')\n",
      "Sum of ages of all people after merging: 266\n"
     ]
    }
   ],
   "source": [
    "# Question 3: Merge a generator\n",
    "\n",
    "# Create a new table with primary key if it doesn't exist\n",
    "con.execute(\"CREATE TABLE IF NOT EXISTS merged_people (ID INT PRIMARY KEY, Name VARCHAR, Age INT, City VARCHAR, Occupation VARCHAR)\")\n",
    "\n",
    "# Load data from the first generator\n",
    "con.executemany(\"INSERT INTO merged_people VALUES (?, ?, ?, ?, NULL) ON CONFLICT(ID) DO UPDATE SET Name=excluded.Name, Age=excluded.Age, City=excluded.City\", ((person[0], person[1], person[2], person[3]) for person in people_1()))\n",
    "\n",
    "# Merge data from the second generator\n",
    "con.executemany(\"INSERT INTO merged_people VALUES (?, ?, ?, ?, ?) ON CONFLICT(ID) DO UPDATE SET Name=excluded.Name, Age=excluded.Age, City=excluded.City, Occupation=excluded.Occupation\", ((person[0], person[1], person[2], person[3], person[4]) for person in people_2()))\n",
    "\n",
    "# Query to verify the loaded data\n",
    "result = con.execute(\"SELECT * FROM merged_people\")\n",
    "print(\"Records after merging:\")\n",
    "while True:\n",
    "    row = result.fetchone()\n",
    "    if row is None:\n",
    "        break\n",
    "    print(row)\n",
    "\n",
    "# Calculate the sum of ages of all the people loaded\n",
    "result = con.execute(\"SELECT SUM(Age) FROM merged_people\")\n",
    "sum_of_merged_ages = result.fetchone()[0]\n",
    "print(\"Sum of ages of all people after merging:\", sum_of_merged_ages)\n",
    "\n"
   ]
  }
 ],
 "metadata": {
  "kernelspec": {
   "display_name": "env",
   "language": "python",
   "name": "python3"
  },
  "language_info": {
   "codemirror_mode": {
    "name": "ipython",
    "version": 3
   },
   "file_extension": ".py",
   "mimetype": "text/x-python",
   "name": "python",
   "nbconvert_exporter": "python",
   "pygments_lexer": "ipython3",
   "version": "3.9.6"
  }
 },
 "nbformat": 4,
 "nbformat_minor": 2
}
